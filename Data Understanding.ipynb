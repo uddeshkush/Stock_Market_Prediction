{
 "cells": [
  {
   "cell_type": "markdown",
   "metadata": {},
   "source": [
    "# DATA Understanding"
   ]
  },
  {
   "cell_type": "code",
   "execution_count": 1,
   "metadata": {
    "collapsed": true
   },
   "outputs": [],
   "source": [
    "from pandas import read_csv\n",
    "from pandas import datetime\n",
    "import matplotlib.pyplot as plt\n",
    "import numpy as np"
   ]
  },
  {
   "cell_type": "code",
   "execution_count": 2,
   "metadata": {},
   "outputs": [
    {
     "name": "stdout",
     "output_type": "stream",
     "text": [
      "         Date   Open   High    Low  Close      Volume  Ex-Dividend  \\\n",
      "0  2005-09-27  21.05  21.40  19.10  19.30   2576944.0          0.0   \n",
      "1  2005-09-28  19.30  20.53  19.20  20.50  15409920.0          0.0   \n",
      "2  2005-09-29  20.40  20.58  20.10  20.21   2890617.0          0.0   \n",
      "3  2005-09-30  20.26  21.05  20.18  21.01   8373458.0          0.0   \n",
      "4  2005-10-03  20.90  21.75  20.90  21.50   2836193.0          0.0   \n",
      "\n",
      "   Split Ratio  Adj. Open  Adj. High   Adj. Low  Adj. Close  Adj. Volume  \n",
      "0          1.0  54.695101  55.604521  49.628334   50.148003   961200.112  \n",
      "1          1.0  50.148003  53.343963  49.888168   53.266013  5747900.160  \n",
      "2          1.0  53.006179  53.473881  52.226676   52.512494  1078200.141  \n",
      "3          1.0  52.642411  54.695101  52.434544   54.591168  3123299.834  \n",
      "4          1.0  54.305350  56.513941  54.305350   55.864355  1057899.989  \n"
     ]
    }
   ],
   "source": [
    "df = read_csv('stock_data/AAL.csv')\n",
    "print(df.head())"
   ]
  },
  {
   "cell_type": "code",
   "execution_count": 18,
   "metadata": {},
   "outputs": [
    {
     "name": "stdout",
     "output_type": "stream",
     "text": [
      "            Date   Open    High    Low  Close     Volume  Ex-Dividend  \\\n",
      "3081  2017-12-22  52.72  52.880  52.42  52.59  2420149.0          0.0   \n",
      "3082  2017-12-26  52.35  53.215  52.33  52.85  2772279.0          0.0   \n",
      "3083  2017-12-27  52.80  52.880  52.06  52.40  2770411.0          0.0   \n",
      "3084  2017-12-28  52.45  52.630  52.22  52.46  1576661.0          0.0   \n",
      "3085  2017-12-29  52.42  52.820  52.01  52.03  2680572.0          0.0   \n",
      "\n",
      "      Split Ratio  Adj. Open  Adj. High  Adj. Low  Adj. Close  Adj. Volume  \n",
      "3081          1.0      52.72     52.880     52.42       52.59    2420149.0  \n",
      "3082          1.0      52.35     53.215     52.33       52.85    2772279.0  \n",
      "3083          1.0      52.80     52.880     52.06       52.40    2770411.0  \n",
      "3084          1.0      52.45     52.630     52.22       52.46    1576661.0  \n",
      "3085          1.0      52.42     52.820     52.01       52.03    2680572.0  \n"
     ]
    }
   ],
   "source": [
    "print(df.tail())"
   ]
  },
  {
   "cell_type": "code",
   "execution_count": 3,
   "metadata": {},
   "outputs": [
    {
     "data": {
      "text/html": [
       "<div>\n",
       "<style>\n",
       "    .dataframe thead tr:only-child th {\n",
       "        text-align: right;\n",
       "    }\n",
       "\n",
       "    .dataframe thead th {\n",
       "        text-align: left;\n",
       "    }\n",
       "\n",
       "    .dataframe tbody tr th {\n",
       "        vertical-align: top;\n",
       "    }\n",
       "</style>\n",
       "<table border=\"1\" class=\"dataframe\">\n",
       "  <thead>\n",
       "    <tr style=\"text-align: right;\">\n",
       "      <th></th>\n",
       "      <th>Open</th>\n",
       "      <th>High</th>\n",
       "      <th>Low</th>\n",
       "      <th>Close</th>\n",
       "      <th>Volume</th>\n",
       "      <th>Ex-Dividend</th>\n",
       "      <th>Split Ratio</th>\n",
       "      <th>Adj. Open</th>\n",
       "      <th>Adj. High</th>\n",
       "      <th>Adj. Low</th>\n",
       "      <th>Adj. Close</th>\n",
       "      <th>Adj. Volume</th>\n",
       "    </tr>\n",
       "  </thead>\n",
       "  <tbody>\n",
       "    <tr>\n",
       "      <th>count</th>\n",
       "      <td>3086.000000</td>\n",
       "      <td>3086.000000</td>\n",
       "      <td>3086.000000</td>\n",
       "      <td>3086.000000</td>\n",
       "      <td>3.086000e+03</td>\n",
       "      <td>3086.000000</td>\n",
       "      <td>3086.000000</td>\n",
       "      <td>3086.000000</td>\n",
       "      <td>3086.000000</td>\n",
       "      <td>3086.000000</td>\n",
       "      <td>3086.000000</td>\n",
       "      <td>3.086000e+03</td>\n",
       "    </tr>\n",
       "    <tr>\n",
       "      <th>mean</th>\n",
       "      <td>25.579295</td>\n",
       "      <td>26.051314</td>\n",
       "      <td>25.083090</td>\n",
       "      <td>25.563606</td>\n",
       "      <td>1.484441e+07</td>\n",
       "      <td>0.000421</td>\n",
       "      <td>0.999797</td>\n",
       "      <td>43.930146</td>\n",
       "      <td>44.827116</td>\n",
       "      <td>42.970354</td>\n",
       "      <td>43.886247</td>\n",
       "      <td>7.588166e+06</td>\n",
       "    </tr>\n",
       "    <tr>\n",
       "      <th>std</th>\n",
       "      <td>17.353096</td>\n",
       "      <td>17.568051</td>\n",
       "      <td>17.124985</td>\n",
       "      <td>17.353267</td>\n",
       "      <td>1.307596e+07</td>\n",
       "      <td>0.006478</td>\n",
       "      <td>0.011287</td>\n",
       "      <td>32.242222</td>\n",
       "      <td>32.786358</td>\n",
       "      <td>31.625327</td>\n",
       "      <td>32.218291</td>\n",
       "      <td>6.393405e+06</td>\n",
       "    </tr>\n",
       "    <tr>\n",
       "      <th>min</th>\n",
       "      <td>1.810000</td>\n",
       "      <td>2.030000</td>\n",
       "      <td>1.450000</td>\n",
       "      <td>1.760000</td>\n",
       "      <td>3.713140e+05</td>\n",
       "      <td>0.000000</td>\n",
       "      <td>0.373000</td>\n",
       "      <td>4.702999</td>\n",
       "      <td>5.274634</td>\n",
       "      <td>3.767596</td>\n",
       "      <td>4.573082</td>\n",
       "      <td>1.385001e+05</td>\n",
       "    </tr>\n",
       "    <tr>\n",
       "      <th>25%</th>\n",
       "      <td>8.805000</td>\n",
       "      <td>9.055000</td>\n",
       "      <td>8.502500</td>\n",
       "      <td>8.762500</td>\n",
       "      <td>6.804400e+06</td>\n",
       "      <td>0.000000</td>\n",
       "      <td>1.000000</td>\n",
       "      <td>22.878402</td>\n",
       "      <td>23.527988</td>\n",
       "      <td>22.092404</td>\n",
       "      <td>22.767973</td>\n",
       "      <td>3.871550e+06</td>\n",
       "    </tr>\n",
       "    <tr>\n",
       "      <th>50%</th>\n",
       "      <td>23.605000</td>\n",
       "      <td>24.115000</td>\n",
       "      <td>22.880000</td>\n",
       "      <td>23.445000</td>\n",
       "      <td>1.144015e+07</td>\n",
       "      <td>0.000000</td>\n",
       "      <td>1.000000</td>\n",
       "      <td>37.417690</td>\n",
       "      <td>38.046546</td>\n",
       "      <td>36.736829</td>\n",
       "      <td>37.455101</td>\n",
       "      <td>6.525105e+06</td>\n",
       "    </tr>\n",
       "    <tr>\n",
       "      <th>75%</th>\n",
       "      <td>41.897500</td>\n",
       "      <td>42.484950</td>\n",
       "      <td>41.290000</td>\n",
       "      <td>41.877500</td>\n",
       "      <td>1.892571e+07</td>\n",
       "      <td>0.000000</td>\n",
       "      <td>1.000000</td>\n",
       "      <td>48.616523</td>\n",
       "      <td>49.302035</td>\n",
       "      <td>47.976533</td>\n",
       "      <td>48.559500</td>\n",
       "      <td>9.750975e+06</td>\n",
       "    </tr>\n",
       "    <tr>\n",
       "      <th>max</th>\n",
       "      <td>62.700000</td>\n",
       "      <td>63.270000</td>\n",
       "      <td>62.000000</td>\n",
       "      <td>62.950000</td>\n",
       "      <td>2.107003e+08</td>\n",
       "      <td>0.100000</td>\n",
       "      <td>1.000000</td>\n",
       "      <td>162.916050</td>\n",
       "      <td>164.397105</td>\n",
       "      <td>161.097211</td>\n",
       "      <td>163.565636</td>\n",
       "      <td>1.377672e+08</td>\n",
       "    </tr>\n",
       "  </tbody>\n",
       "</table>\n",
       "</div>"
      ],
      "text/plain": [
       "              Open         High          Low        Close        Volume  \\\n",
       "count  3086.000000  3086.000000  3086.000000  3086.000000  3.086000e+03   \n",
       "mean     25.579295    26.051314    25.083090    25.563606  1.484441e+07   \n",
       "std      17.353096    17.568051    17.124985    17.353267  1.307596e+07   \n",
       "min       1.810000     2.030000     1.450000     1.760000  3.713140e+05   \n",
       "25%       8.805000     9.055000     8.502500     8.762500  6.804400e+06   \n",
       "50%      23.605000    24.115000    22.880000    23.445000  1.144015e+07   \n",
       "75%      41.897500    42.484950    41.290000    41.877500  1.892571e+07   \n",
       "max      62.700000    63.270000    62.000000    62.950000  2.107003e+08   \n",
       "\n",
       "       Ex-Dividend  Split Ratio    Adj. Open    Adj. High     Adj. Low  \\\n",
       "count  3086.000000  3086.000000  3086.000000  3086.000000  3086.000000   \n",
       "mean      0.000421     0.999797    43.930146    44.827116    42.970354   \n",
       "std       0.006478     0.011287    32.242222    32.786358    31.625327   \n",
       "min       0.000000     0.373000     4.702999     5.274634     3.767596   \n",
       "25%       0.000000     1.000000    22.878402    23.527988    22.092404   \n",
       "50%       0.000000     1.000000    37.417690    38.046546    36.736829   \n",
       "75%       0.000000     1.000000    48.616523    49.302035    47.976533   \n",
       "max       0.100000     1.000000   162.916050   164.397105   161.097211   \n",
       "\n",
       "        Adj. Close   Adj. Volume  \n",
       "count  3086.000000  3.086000e+03  \n",
       "mean     43.886247  7.588166e+06  \n",
       "std      32.218291  6.393405e+06  \n",
       "min       4.573082  1.385001e+05  \n",
       "25%      22.767973  3.871550e+06  \n",
       "50%      37.455101  6.525105e+06  \n",
       "75%      48.559500  9.750975e+06  \n",
       "max     163.565636  1.377672e+08  "
      ]
     },
     "execution_count": 3,
     "metadata": {},
     "output_type": "execute_result"
    }
   ],
   "source": [
    "df.describe()"
   ]
  },
  {
   "cell_type": "code",
   "execution_count": 4,
   "metadata": {},
   "outputs": [
    {
     "data": {
      "text/plain": [
       "Date            object\n",
       "Open           float64\n",
       "High           float64\n",
       "Low            float64\n",
       "Close          float64\n",
       "Volume         float64\n",
       "Ex-Dividend    float64\n",
       "Split Ratio    float64\n",
       "Adj. Open      float64\n",
       "Adj. High      float64\n",
       "Adj. Low       float64\n",
       "Adj. Close     float64\n",
       "Adj. Volume    float64\n",
       "dtype: object"
      ]
     },
     "execution_count": 4,
     "metadata": {},
     "output_type": "execute_result"
    }
   ],
   "source": [
    "df.dtypes"
   ]
  },
  {
   "cell_type": "code",
   "execution_count": 5,
   "metadata": {
    "collapsed": true
   },
   "outputs": [],
   "source": [
    "open_px=df['Open']\n",
    "close_px=df['Close']\n",
    "high_px=df['High']\n",
    "low_px=df['Low']"
   ]
  },
  {
   "cell_type": "markdown",
   "metadata": {},
   "source": [
    "# Daily Open Price Plot"
   ]
  },
  {
   "cell_type": "code",
   "execution_count": 6,
   "metadata": {},
   "outputs": [
    {
     "data": {
      "image/png": "[encoded data removed]",
      "text/plain": [
       "<matplotlib.figure.Figure at 0x257a52bed68>"
      ]
     },
     "metadata": {},
     "output_type": "display_data"
    }
   ],
   "source": [
    "open_px.plot(label='Open')\n",
    "#x axis naming\n",
    "plt.xlabel('DATE')\n",
    "\n",
    "#y axis naming\n",
    "plt.ylabel('Open')\n",
    "plt.legend()\n",
    "plt.show()"
   ]
  },
  {
   "cell_type": "code",
   "execution_count": 7,
   "metadata": {},
   "outputs": [
    {
     "data": {
      "text/plain": [
       "0    21.05\n",
       "1    19.30\n",
       "2    20.40\n",
       "3    20.26\n",
       "4    20.90\n",
       "Name: Open, dtype: float64"
      ]
     },
     "execution_count": 7,
     "metadata": {},
     "output_type": "execute_result"
    }
   ],
   "source": [
    "open_px.head()"
   ]
  },
  {
   "cell_type": "code",
   "execution_count": 8,
   "metadata": {},
   "outputs": [
    {
     "data": {
      "text/plain": [
       "3081    52.72\n",
       "3082    52.35\n",
       "3083    52.80\n",
       "3084    52.45\n",
       "3085    52.42\n",
       "Name: Open, dtype: float64"
      ]
     },
     "execution_count": 8,
     "metadata": {},
     "output_type": "execute_result"
    }
   ],
   "source": [
    "open_px.tail()"
   ]
  },
  {
   "cell_type": "markdown",
   "metadata": {},
   "source": [
    "# Daily Close Price Plot"
   ]
  },
  {
   "cell_type": "code",
   "execution_count": 9,
   "metadata": {},
   "outputs": [
    {
     "data": {
      "image/png": "[encoded data removed]",
      "text/plain": [
       "<matplotlib.figure.Figure at 0x257a5338f60>"
      ]
     },
     "metadata": {},
     "output_type": "display_data"
    }
   ],
   "source": [
    "import matplotlib.pyplot as plt\n",
    "close_px.plot(label='Close',color=\"black\")\n",
    "#x axis naming\n",
    "plt.xlabel('DATE')\n",
    "\n",
    "#y axis naming\n",
    "plt.ylabel('Close')\n",
    "plt.legend()\n",
    "plt.show()"
   ]
  },
  {
   "cell_type": "code",
   "execution_count": 10,
   "metadata": {},
   "outputs": [
    {
     "data": {
      "text/plain": [
       "0    19.30\n",
       "1    20.50\n",
       "2    20.21\n",
       "3    21.01\n",
       "4    21.50\n",
       "Name: Close, dtype: float64"
      ]
     },
     "execution_count": 10,
     "metadata": {},
     "output_type": "execute_result"
    }
   ],
   "source": [
    "close_px.head()"
   ]
  },
  {
   "cell_type": "code",
   "execution_count": 11,
   "metadata": {},
   "outputs": [
    {
     "data": {
      "text/plain": [
       "3081    52.59\n",
       "3082    52.85\n",
       "3083    52.40\n",
       "3084    52.46\n",
       "3085    52.03\n",
       "Name: Close, dtype: float64"
      ]
     },
     "execution_count": 11,
     "metadata": {},
     "output_type": "execute_result"
    }
   ],
   "source": [
    "close_px.tail()"
   ]
  },
  {
   "cell_type": "markdown",
   "metadata": {},
   "source": [
    "# Daily High Price Plot"
   ]
  },
  {
   "cell_type": "code",
   "execution_count": 12,
   "metadata": {},
   "outputs": [
    {
     "data": {
      "image/png": "[encoded data removed]",
      "text/plain": [
       "<matplotlib.figure.Figure at 0x257a53c4940>"
      ]
     },
     "metadata": {},
     "output_type": "display_data"
    }
   ],
   "source": [
    "import matplotlib.pyplot as plt\n",
    "high_px.plot(label='High',color=\"green\")\n",
    "#x axis naming\n",
    "plt.xlabel('DATE')\n",
    "\n",
    "#y axis naming\n",
    "plt.ylabel('High')\n",
    "plt.legend()\n",
    "plt.show()"
   ]
  },
  {
   "cell_type": "code",
   "execution_count": 13,
   "metadata": {},
   "outputs": [
    {
     "data": {
      "text/plain": [
       "0    21.40\n",
       "1    20.53\n",
       "2    20.58\n",
       "3    21.05\n",
       "4    21.75\n",
       "Name: High, dtype: float64"
      ]
     },
     "execution_count": 13,
     "metadata": {},
     "output_type": "execute_result"
    }
   ],
   "source": [
    "high_px.head()"
   ]
  },
  {
   "cell_type": "code",
   "execution_count": 14,
   "metadata": {},
   "outputs": [
    {
     "data": {
      "text/plain": [
       "3081    52.880\n",
       "3082    53.215\n",
       "3083    52.880\n",
       "3084    52.630\n",
       "3085    52.820\n",
       "Name: High, dtype: float64"
      ]
     },
     "execution_count": 14,
     "metadata": {},
     "output_type": "execute_result"
    }
   ],
   "source": [
    "high_px.tail()"
   ]
  },
  {
   "cell_type": "markdown",
   "metadata": {},
   "source": [
    "#  Daily Low Price Plot"
   ]
  },
  {
   "cell_type": "code",
   "execution_count": 15,
   "metadata": {},
   "outputs": [
    {
     "data": {
      "image/png": "[encoded data removed]",
      "text/plain": [
       "<matplotlib.figure.Figure at 0x257a5505b00>"
      ]
     },
     "metadata": {},
     "output_type": "display_data"
    }
   ],
   "source": [
    "import matplotlib.pyplot as plt\n",
    "low_px.plot(label='Low',color=\"red\")\n",
    "#x axis naming\n",
    "plt.xlabel('DATE')\n",
    "\n",
    "#y axis naming\n",
    "plt.ylabel('Low')\n",
    "plt.legend()\n",
    "plt.show()"
   ]
  },
  {
   "cell_type": "code",
   "execution_count": 16,
   "metadata": {},
   "outputs": [
    {
     "data": {
      "text/plain": [
       "0    19.10\n",
       "1    19.20\n",
       "2    20.10\n",
       "3    20.18\n",
       "4    20.90\n",
       "Name: Low, dtype: float64"
      ]
     },
     "execution_count": 16,
     "metadata": {},
     "output_type": "execute_result"
    }
   ],
   "source": [
    "low_px.head()"
   ]
  },
  {
   "cell_type": "code",
   "execution_count": 17,
   "metadata": {},
   "outputs": [
    {
     "data": {
      "text/plain": [
       "3081    52.42\n",
       "3082    52.33\n",
       "3083    52.06\n",
       "3084    52.22\n",
       "3085    52.01\n",
       "Name: Low, dtype: float64"
      ]
     },
     "execution_count": 17,
     "metadata": {},
     "output_type": "execute_result"
    }
   ],
   "source": [
    "low_px.tail()"
   ]
  }
 ],
 "metadata": {
  "kernelspec": {
   "display_name": "Python 3",
   "language": "python",
   "name": "python3"
  },
  "language_info": {
   "codemirror_mode": {
    "name": "ipython",
    "version": 3
   },
   "file_extension": ".py",
   "mimetype": "text/x-python",
   "name": "python",
   "nbconvert_exporter": "python",
   "pygments_lexer": "ipython3",
   "version": "3.6.3"
  }
 },
 "nbformat": 4,
 "nbformat_minor": 2
}
